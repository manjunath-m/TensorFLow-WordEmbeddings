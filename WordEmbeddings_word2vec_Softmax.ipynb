{
 "cells": [
  {
   "cell_type": "code",
   "execution_count": 2,
   "metadata": {},
   "outputs": [],
   "source": [
    "from __future__ import absolute_import\n",
    "from __future__ import division\n",
    "from __future__ import print_function\n"
   ]
  },
  {
   "cell_type": "code",
   "execution_count": 3,
   "metadata": {},
   "outputs": [],
   "source": [
    "import collections\n",
    "import math\n",
    "import os\n",
    "import random\n",
    "import zipfile"
   ]
  },
  {
   "cell_type": "code",
   "execution_count": 4,
   "metadata": {},
   "outputs": [],
   "source": [
    "from six.moves import urllib\n",
    "from six.moves import xrange"
   ]
  },
  {
   "cell_type": "code",
   "execution_count": 8,
   "metadata": {},
   "outputs": [],
   "source": [
    "import numpy as np\n",
    "import tensorflow as tf"
   ]
  },
  {
   "cell_type": "code",
   "execution_count": 10,
   "metadata": {},
   "outputs": [
    {
     "name": "stdout",
     "output_type": "stream",
     "text": [
      "1.16.4\n",
      "1.14.0\n"
     ]
    }
   ],
   "source": [
    "print(np.__version__)\n",
    "print(tf.__version__)"
   ]
  },
  {
   "cell_type": "code",
   "execution_count": 17,
   "metadata": {},
   "outputs": [],
   "source": [
    "DOWNLOADED_FILENAME = 'SampleText.zip'\n",
    "def maybe_download(url_path, expected_bytes):\n",
    "    if not os.path.exists(DOWNLOADED_FILENAME):\n",
    "        filename, _ = urllib.request.urlretrieve(url_path, DOWNLOADED_FILENAME)\n",
    "    \n",
    "    statinfo = os.stat(DOWNLOADED_FILENAME)\n",
    "    if statinfo.st_size ==  expected_bytes:\n",
    "            print('Found and verified file from this path: ', url_path)\n",
    "            print('Downloaded filer: ', DOWNLOADED_FILENAME)\n",
    "    else:\n",
    "        print(statinfo.st_size)\n",
    "        raise Exception(\n",
    "                'Failed to verify file from :' + url_path +'. Can you get to ti with a browser?')"
   ]
  },
  {
   "cell_type": "code",
   "execution_count": 15,
   "metadata": {},
   "outputs": [],
   "source": [
    "def read_words():\n",
    "    with zipfile.ZipFile(DOWNLOADED_FILENAME) as f:\n",
    "        firstfile = f.namelist()[0]\n",
    "        filestring = tf.compat.as_str(f.read(firstfile))\n",
    "        words = filestring.split()\n",
    "        \n",
    "    return words"
   ]
  },
  {
   "cell_type": "code",
   "execution_count": 18,
   "metadata": {},
   "outputs": [
    {
     "name": "stdout",
     "output_type": "stream",
     "text": [
      "Found and verified file from this path:  http://mattmahoney.net/dc/text8.zip\n",
      "Downloaded filer:  SampleText.zip\n"
     ]
    }
   ],
   "source": [
    "URL_PATH = 'http://mattmahoney.net/dc/text8.zip'\n",
    "FILESIZE = 31344016\n",
    "maybe_download(URL_PATH, FILESIZE)"
   ]
  },
  {
   "cell_type": "code",
   "execution_count": 74,
   "metadata": {},
   "outputs": [],
   "source": [
    "vocabulary = read_words()\n"
   ]
  },
  {
   "cell_type": "code",
   "execution_count": 75,
   "metadata": {},
   "outputs": [
    {
     "data": {
      "text/plain": [
       "17005207"
      ]
     },
     "execution_count": 75,
     "metadata": {},
     "output_type": "execute_result"
    }
   ],
   "source": [
    "len(vocabulary)\n"
   ]
  },
  {
   "cell_type": "code",
   "execution_count": 76,
   "metadata": {},
   "outputs": [
    {
     "data": {
      "text/plain": [
       "['anarchism',\n",
       " 'originated',\n",
       " 'as',\n",
       " 'a',\n",
       " 'term',\n",
       " 'of',\n",
       " 'abuse',\n",
       " 'first',\n",
       " 'used',\n",
       " 'against',\n",
       " 'early',\n",
       " 'working',\n",
       " 'class',\n",
       " 'radicals',\n",
       " 'including',\n",
       " 'the',\n",
       " 'diggers',\n",
       " 'of',\n",
       " 'the',\n",
       " 'english',\n",
       " 'revolution',\n",
       " 'and',\n",
       " 'the',\n",
       " 'sans']"
      ]
     },
     "execution_count": 76,
     "metadata": {},
     "output_type": "execute_result"
    }
   ],
   "source": [
    "vocabulary[:24]"
   ]
  },
  {
   "cell_type": "code",
   "execution_count": 77,
   "metadata": {},
   "outputs": [],
   "source": [
    "def build_dataset(words, n_words):\n",
    "    word_counts = [['UNKNOWN', -1]]\n",
    "    counter = collections.Counter(words)\n",
    "    word_counts.extend(counter.most_common(n_words - 1))\n",
    "    \n",
    "    dictionary = dict()\n",
    "    #Assign unique indexs to words; the most common words have the lowest index values\n",
    "    for word, _ in word_counts:\n",
    "        dictionary[word] = len(dictionary) \n",
    "        \n",
    "    \n",
    "    word_indexes = list()\n",
    "    \n",
    "    unknown_count = 0\n",
    "    for word in words:\n",
    "        if word in dictionary:\n",
    "            index = dictionary[word]\n",
    "        else:\n",
    "            index = 0  # Dictionary['UNKNOWN']\n",
    "            unknown_count += 1\n",
    "            \n",
    "        word_indexes.append(index) # word_indexes all the words from the original text in it's index form \n",
    "        \n",
    "    word_counts[0][1] = unknown_count\n",
    "    \n",
    "    reversed_dictionary = dict(zip(dictionary.values(), dictionary.keys() ))\n",
    "    \n",
    "    return word_counts, word_indexes, dictionary, reversed_dictionary"
   ]
  },
  {
   "cell_type": "code",
   "execution_count": 78,
   "metadata": {},
   "outputs": [],
   "source": [
    "VOCABULARY_SIZE = 5000\n",
    "# word_counts -> Most common top words\n",
    "# word_indexes -> all the words from the original text in it's index form \n",
    "# dictionary -> unique indexs to top words; the most common words have the lowest index values\n",
    "# reversed_dictionary -> index to word map\n",
    "word_counts, word_indexes, dictionary, reversed_dictionary = build_dataset(vocabulary,VOCABULARY_SIZE)"
   ]
  },
  {
   "cell_type": "code",
   "execution_count": 33,
   "metadata": {},
   "outputs": [
    {
     "data": {
      "text/plain": [
       "[['UNKNOWN', 2735459],\n",
       " ('the', 1061396),\n",
       " ('of', 593677),\n",
       " ('and', 416629),\n",
       " ('one', 411764),\n",
       " ('in', 372201),\n",
       " ('a', 325873),\n",
       " ('to', 316376),\n",
       " ('zero', 264975),\n",
       " ('nine', 250430)]"
      ]
     },
     "execution_count": 33,
     "metadata": {},
     "output_type": "execute_result"
    }
   ],
   "source": [
    "word_counts[:10]"
   ]
  },
  {
   "cell_type": "code",
   "execution_count": 35,
   "metadata": {},
   "outputs": [
    {
     "data": {
      "text/plain": [
       "[0, 3081, 12, 6, 195, 2, 3134, 46, 59, 156]"
      ]
     },
     "execution_count": 35,
     "metadata": {},
     "output_type": "execute_result"
    }
   ],
   "source": [
    "word_indexes[:10]"
   ]
  },
  {
   "cell_type": "code",
   "execution_count": 38,
   "metadata": {},
   "outputs": [
    {
     "name": "stdout",
     "output_type": "stream",
     "text": [
      "adoption : 4051\n",
      "madrid : 4732\n",
      "module : 4389\n",
      "fire : 671\n",
      "fifty : 4348\n",
      "sister : 1933\n",
      "space : 320\n",
      "efficient : 2929\n",
      "ethics : 2685\n",
      "private : 818\n"
     ]
    }
   ],
   "source": [
    "import random\n",
    "\n",
    "for key in random.sample(list(dictionary), 10):\n",
    "    print (key, \":\", dictionary[key])"
   ]
  },
  {
   "cell_type": "code",
   "execution_count": 39,
   "metadata": {},
   "outputs": [
    {
     "name": "stdout",
     "output_type": "stream",
     "text": [
      "3131 : seek\n",
      "3761 : dynamic\n",
      "3623 : ranges\n",
      "2163 : vast\n",
      "968 : variety\n",
      "1373 : attempts\n",
      "1957 : producer\n",
      "4894 : unicode\n",
      "86 : united\n",
      "1970 : mr\n"
     ]
    }
   ],
   "source": [
    "for key in random.sample(list(reversed_dictionary), 10):\n",
    "    print (key, \":\", reversed_dictionary[key])"
   ]
  },
  {
   "cell_type": "code",
   "execution_count": 40,
   "metadata": {},
   "outputs": [],
   "source": [
    "del vocabulary"
   ]
  },
  {
   "cell_type": "code",
   "execution_count": 79,
   "metadata": {},
   "outputs": [],
   "source": [
    "#Global index into words maintained accross batches\n",
    "global_index = 0"
   ]
  },
  {
   "cell_type": "code",
   "execution_count": 60,
   "metadata": {},
   "outputs": [],
   "source": [
    "# word_indexes -> all the words from the original text in it's index form \n",
    "# num_skips -> no of words we chose from the context window of any input word\n",
    "# skip_window -> no of neighbors words we going to consider left or right for skip-gram model\n",
    "def generate_batch(word_indexes, batch_size, num_skips, skip_window):\n",
    "    global global_index\n",
    "    \n",
    "    assert batch_size % num_skips  == 0\n",
    "    assert num_skips <=2 * skip_window\n",
    "    \n",
    "    batch = np.ndarray(shape=(batch_size), dtype=np.int32)  \n",
    "    labels = np.ndarray(shape=(batch_size, 1), dtype=np.int32) # arrays of arrays contains the index of target predicted words\n",
    "    \n",
    "    span = 2 * skip_window + 1 # [skip_window input_word skip_window] \n",
    "    \n",
    "    buffer = collections.deque(maxlen=span) # double ended queue\n",
    "    \n",
    "    for _ in range(span):\n",
    "        buffer.append(word_indexes[global_index])  #initialize with first few text fragment\n",
    "        global_index = (global_index + 1)  % len(word_indexes)\n",
    "        \n",
    "    for i in range(batch_size // num_skips):  \n",
    "        target = skip_window # input_word at the center of the buffer\n",
    "        targets_to_avoid = [skip_window]\n",
    "        \n",
    "         #chose a random word from context window\n",
    "        for j in range(num_skips):\n",
    "            while target in targets_to_avoid: # dont chose already chosen word\n",
    "                target = random.randint(0, span -1)\n",
    "                \n",
    "            targets_to_avoid.append(target) # so that you dont end up chosing this word again\n",
    "            \n",
    "            batch[i * num_skips + j] = buffer[skip_window] # this is the input word\n",
    "            labels[i * num_skips + j, 0] = buffer[target]  # these are the context words\n",
    "            \n",
    "        buffer.append(word_indexes[global_index])\n",
    "        global_index = (global_index + 1) % len(word_indexes) #appending a word to the deque, removes a word from the beginning\n",
    "        \n",
    "    #Backtrack a little, ensure that the words at the end of a batch are included in the next batch    \n",
    "    global_index = (global_index + len(word_indexes) - span) % len (word_indexes) \n",
    "\n",
    "    \n",
    "    return batch, labels\n",
    "        "
   ]
  },
  {
   "cell_type": "code",
   "execution_count": 80,
   "metadata": {},
   "outputs": [],
   "source": [
    "#word_indexes, batch_size, num_skips, skip_window\n",
    "batch, labels = generate_batch(word_indexes, 10, 2, 5)"
   ]
  },
  {
   "cell_type": "code",
   "execution_count": 62,
   "metadata": {},
   "outputs": [
    {
     "data": {
      "text/plain": [
       "array([  20,   20,   59,   59, 2732, 2732,  363,  363,    7,    7])"
      ]
     },
     "execution_count": 62,
     "metadata": {},
     "output_type": "execute_result"
    }
   ],
   "source": [
    "batch"
   ]
  },
  {
   "cell_type": "code",
   "execution_count": 63,
   "metadata": {},
   "outputs": [
    {
     "data": {
      "text/plain": [
       "array([[   7],\n",
       "       [ 363],\n",
       "       [3673],\n",
       "       [ 105],\n",
       "       [   7],\n",
       "       [ 363],\n",
       "       [  59],\n",
       "       [ 105],\n",
       "       [ 372],\n",
       "       [ 363]])"
      ]
     },
     "execution_count": 63,
     "metadata": {},
     "output_type": "execute_result"
    }
   ],
   "source": [
    "labels"
   ]
  },
  {
   "cell_type": "code",
   "execution_count": 66,
   "metadata": {},
   "outputs": [
    {
     "name": "stdout",
     "output_type": "stream",
     "text": [
      "that :  to\n",
      "that :  means\n",
      "used :  destroy\n",
      "used :  any\n",
      "violent :  to\n",
      "violent :  means\n",
      "means :  used\n",
      "means :  any\n",
      "to :  society\n"
     ]
    }
   ],
   "source": [
    "for i in range(9):\n",
    "    print(reversed_dictionary[batch[i]], \": \", reversed_dictionary[labels[i][0]] )"
   ]
  },
  {
   "cell_type": "code",
   "execution_count": 81,
   "metadata": {},
   "outputs": [],
   "source": [
    "# as we train, validate embedding of words that are similar are closer together \n",
    "valid_size = 16 \n",
    "valid_window = 100\n",
    "valid_examples = np.random.choice(valid_window, valid_size, replace=False)\n"
   ]
  },
  {
   "cell_type": "code",
   "execution_count": 89,
   "metadata": {},
   "outputs": [],
   "source": [
    "batch_size = 128 # you can experiment\n",
    "embedding_size = 50 # no of dimension that the word embedding will have, i.e hidden layer have 50 neurons\n",
    "skip_window = 2\n",
    "num_skips = 2"
   ]
  },
  {
   "cell_type": "code",
   "execution_count": 90,
   "metadata": {},
   "outputs": [],
   "source": [
    "tf.reset_default_graph()\n",
    "\n",
    "train_inputs = tf.placeholder(tf.int32, shape=[batch_size]) # tensor shape of the placeholder is same as the dimensions our batch and labels\n",
    "train_labels = tf.placeholder(tf.int32, shape=[batch_size, 1])\n",
    "\n",
    "valid_dataset = tf.constant(valid_examples, dtype=tf.int32)"
   ]
  },
  {
   "cell_type": "code",
   "execution_count": 91,
   "metadata": {},
   "outputs": [],
   "source": [
    "#embeddings are generated using the training dataset\n",
    "embeddings = tf.Variable(\n",
    "            tf.random_uniform([VOCABULARY_SIZE, embedding_size], -1.0, 1.0))\n",
    "\n",
    "embed = tf.nn.embedding_lookup(embeddings, train_inputs) # look at the image embedding matrix and embedding lookup"
   ]
  },
  {
   "cell_type": "code",
   "execution_count": 92,
   "metadata": {},
   "outputs": [
    {
     "data": {
      "text/plain": [
       "<tf.Variable 'Variable:0' shape=(5000, 50) dtype=float32_ref>"
      ]
     },
     "execution_count": 92,
     "metadata": {},
     "output_type": "execute_result"
    }
   ],
   "source": [
    "embeddings"
   ]
  },
  {
   "cell_type": "code",
   "execution_count": 93,
   "metadata": {},
   "outputs": [
    {
     "data": {
      "text/plain": [
       "<tf.Tensor 'embedding_lookup/Identity:0' shape=(128, 50) dtype=float32>"
      ]
     },
     "execution_count": 93,
     "metadata": {},
     "output_type": "execute_result"
    }
   ],
   "source": [
    "embed"
   ]
  },
  {
   "cell_type": "code",
   "execution_count": 94,
   "metadata": {},
   "outputs": [],
   "source": [
    "# settup linear hidden layers using math ops Y=Wx+B\n",
    "weights = tf.Variable(tf.truncated_normal([VOCABULARY_SIZE, embedding_size], stddev=1.0 /math.sqrt(embedding_size)))\n",
    "\n",
    "biases = tf.Variable(tf.zeros([VOCABULARY_SIZE]))\n",
    "hidden_out = tf.matmul(embed, tf.transpose(weights)) + biases\n"
   ]
  },
  {
   "cell_type": "code",
   "execution_count": 95,
   "metadata": {},
   "outputs": [
    {
     "data": {
      "text/plain": [
       "<tf.Tensor 'add:0' shape=(128, 5000) dtype=float32>"
      ]
     },
     "execution_count": 95,
     "metadata": {},
     "output_type": "execute_result"
    }
   ],
   "source": [
    "hidden_out"
   ]
  },
  {
   "cell_type": "code",
   "execution_count": 98,
   "metadata": {},
   "outputs": [],
   "source": [
    "#convert our labels to one hot model, to use it with Softmax prediction layer\n",
    "train_one_hot = tf.one_hot(train_labels, VOCABULARY_SIZE)\n",
    "\n",
    "# Softmax prediction layer, using cross entropy as the loss function\n",
    "loss = tf.reduce_mean(tf.nn.softmax_cross_entropy_with_logits(logits=hidden_out, labels=train_one_hot))"
   ]
  },
  {
   "cell_type": "code",
   "execution_count": 99,
   "metadata": {},
   "outputs": [],
   "source": [
    "# Pass loss into GradientDescentOptimizer to minimize the loss\n",
    "optimizer = tf.train.GradientDescentOptimizer(0.1).minimize(loss)"
   ]
  },
  {
   "cell_type": "code",
   "execution_count": 102,
   "metadata": {},
   "outputs": [],
   "source": [
    "# Find L2 Norm\n",
    "l2_norm = tf.sqrt(tf.reduce_sum(tf.square(embeddings), 1, keep_dims=True))\n",
    "normalized_embeddings = embeddings / l2_norm"
   ]
  },
  {
   "cell_type": "code",
   "execution_count": 103,
   "metadata": {},
   "outputs": [],
   "source": [
    "valid_embeddings = tf.nn.embedding_lookup(normalized_embeddings, valid_dataset)"
   ]
  },
  {
   "cell_type": "code",
   "execution_count": 104,
   "metadata": {},
   "outputs": [
    {
     "data": {
      "text/plain": [
       "<tf.Tensor 'embedding_lookup_1/Identity:0' shape=(16, 50) dtype=float32>"
      ]
     },
     "execution_count": 104,
     "metadata": {},
     "output_type": "execute_result"
    }
   ],
   "source": [
    "valid_embeddings # there are 16 words in the valid_dataset"
   ]
  },
  {
   "cell_type": "code",
   "execution_count": 105,
   "metadata": {},
   "outputs": [
    {
     "data": {
      "text/plain": [
       "<tf.Tensor 'truediv:0' shape=(5000, 50) dtype=float32>"
      ]
     },
     "execution_count": 105,
     "metadata": {},
     "output_type": "execute_result"
    }
   ],
   "source": [
    "normalized_embeddings"
   ]
  },
  {
   "cell_type": "code",
   "execution_count": 107,
   "metadata": {},
   "outputs": [],
   "source": [
    "# Find cosine similarity, between valid_embeddings, normalized_embeddings and find top k which are similar\n",
    "similarity = tf.matmul(valid_embeddings, normalized_embeddings, transpose_b=True)"
   ]
  },
  {
   "cell_type": "code",
   "execution_count": 108,
   "metadata": {},
   "outputs": [
    {
     "data": {
      "text/plain": [
       "<tf.Tensor 'MatMul_1:0' shape=(16, 5000) dtype=float32>"
      ]
     },
     "execution_count": 108,
     "metadata": {},
     "output_type": "execute_result"
    }
   ],
   "source": [
    "similarity"
   ]
  },
  {
   "cell_type": "code",
   "execution_count": 110,
   "metadata": {},
   "outputs": [],
   "source": [
    "init = tf.global_variables_initializer()"
   ]
  },
  {
   "cell_type": "code",
   "execution_count": 111,
   "metadata": {},
   "outputs": [],
   "source": [
    "num_steps = 20001"
   ]
  },
  {
   "cell_type": "code",
   "execution_count": 114,
   "metadata": {},
   "outputs": [
    {
     "name": "stdout",
     "output_type": "stream",
     "text": [
      "Average loss at step  0 :  8.659011840820312\n",
      "Nearest to zero: norse, sacred, alexandria, miller, imperial, publishers, channels, settled,\n",
      "Nearest to no: knight, word, supported, philosophers, getting, newspaper, employed, superman,\n",
      "Nearest to about: aimed, sacred, christianity, milk, doctors, colour, nfl, fly,\n",
      "Nearest to on: nietzsche, add, turkish, a, join, she, euro, treated,\n",
      "Nearest to to: only, subjects, tracks, keeping, roads, rainfall, agency, louisiana,\n",
      "Nearest to that: fast, communion, caused, beginning, repeatedly, wish, networks, finalist,\n",
      "Nearest to from: function, america, fall, kick, caesar, promoted, united, based,\n",
      "Nearest to his: diagram, propaganda, cult, criminal, sets, average, protocol, operate,\n",
      "Nearest to known: rolling, citizens, miles, enabled, roy, germans, distinguished, romance,\n",
      "Nearest to during: outer, sexual, foundation, cities, dramatic, details, website, merely,\n",
      "Nearest to often: sphere, decline, tank, court, available, protocols, gallery, dj,\n",
      "Nearest to so: louisiana, provincial, simple, god, middle, defeat, played, wide,\n",
      "Nearest to war: algorithms, individual, homosexuality, contrast, names, scientists, l, commons,\n",
      "Nearest to six: blue, losses, penalty, given, poor, similar, factors, dec,\n",
      "Nearest to at: percent, individual, est, arts, denominations, reflect, artists, canada,\n",
      "Nearest to he: jacob, footballer, lines, afghan, poems, intelligent, featuring, judicial,\n",
      "\n",
      "\n",
      "Average loss at step  2000 :  6.935975439190864\n",
      "Average loss at step  4000 :  6.162933058142662\n",
      "Average loss at step  6000 :  6.07159226500988\n",
      "Average loss at step  8000 :  5.927230177104473\n",
      "Average loss at step  10000 :  5.715114343047142\n",
      "Nearest to zero: norse, miller, publishers, alexandria, sacred, imperial, settled, lakes,\n",
      "Nearest to no: knight, word, supported, philosophers, getting, newspaper, employed, together,\n",
      "Nearest to about: aimed, sacred, christianity, milk, doctors, colour, nfl, creatures,\n",
      "Nearest to on: nietzsche, add, turkish, she, a, treated, invasion, join,\n",
      "Nearest to to: such, subjects, columbus, only, median, tracks, keeping, beta,\n",
      "Nearest to that: fast, caused, communion, wish, beginning, repeatedly, practices, at,\n",
      "Nearest to from: function, fall, kick, united, soldier, america, edition, suffering,\n",
      "Nearest to his: diagram, cult, criminal, propaganda, UNKNOWN, appears, operate, sets,\n",
      "Nearest to known: rolling, miles, citizens, enabled, roy, germans, editor, romance,\n",
      "Nearest to during: outer, foundation, sexual, cities, dramatic, details, merely, environmental,\n",
      "Nearest to often: sphere, decline, tank, court, available, protocols, gallery, dj,\n",
      "Nearest to so: louisiana, provincial, god, simple, middle, wide, played, defeat,\n",
      "Nearest to war: algorithms, individual, contrast, names, homosexuality, scientists, l, arc,\n",
      "Nearest to six: seven, dune, austin, factors, blue, losses, receiving, nine,\n",
      "Nearest to at: individual, percent, that, est, denominations, arts, plague, eleven,\n",
      "Nearest to he: jacob, footballer, lines, afghan, poems, calculations, judicial, featuring,\n",
      "\n",
      "\n",
      "Average loss at step  12000 :  5.775538783192634\n",
      "Average loss at step  14000 :  5.597215330719948\n",
      "Average loss at step  16000 :  5.502530828118324\n",
      "Average loss at step  18000 :  5.448385110914707\n",
      "Average loss at step  20000 :  5.700698104381561\n",
      "Nearest to zero: publishers, norse, miller, alexandria, one, settled, sacred, lakes,\n",
      "Nearest to no: word, knight, supported, getting, philosophers, newspaper, employed, together,\n",
      "Nearest to about: sacred, aimed, christianity, doctors, milk, colour, creatures, nfl,\n",
      "Nearest to on: nietzsche, add, she, turkish, invasion, a, treated, consonants,\n",
      "Nearest to to: such, columbus, median, subjects, except, francisco, keeping, father,\n",
      "Nearest to that: fast, caused, at, communion, wish, practices, repeatedly, attempted,\n",
      "Nearest to from: soldier, fall, kick, function, united, fair, edition, parks,\n",
      "Nearest to his: diagram, cult, UNKNOWN, criminal, historians, operate, appears, effort,\n",
      "Nearest to known: miles, rolling, citizens, roy, enabled, germans, romance, editor,\n",
      "Nearest to during: outer, foundation, sexual, cities, dramatic, details, merely, environmental,\n",
      "Nearest to often: sphere, decline, tank, court, available, protocols, dj, gallery,\n",
      "Nearest to so: louisiana, provincial, god, middle, wide, simple, played, revolutionary,\n",
      "Nearest to war: algorithms, individual, contrast, names, scientists, arc, l, homosexuality,\n",
      "Nearest to six: seven, nine, dune, factors, austin, receiving, blue, written,\n",
      "Nearest to at: that, individual, percent, plague, denominations, independently, est, eleven,\n",
      "Nearest to he: jacob, footballer, lines, afghan, thanks, calculations, byzantine, egyptian,\n",
      "\n",
      "\n"
     ]
    }
   ],
   "source": [
    "with tf.Session() as session:\n",
    "    init.run()\n",
    "    \n",
    "    average_loss = 0\n",
    "    for step in xrange(num_steps):\n",
    "        batch_inputs, batch_labels = generate_batch(word_indexes, batch_size, num_skips, skip_window)\n",
    "        \n",
    "        feed_dict = {train_inputs: batch_inputs, train_labels: batch_labels}\n",
    "        \n",
    "        _, loss_val = session.run([optimizer, loss], feed_dict=feed_dict)\n",
    "        average_loss += loss_val\n",
    "        \n",
    "        if step % 2000 == 0:\n",
    "            if step > 0:\n",
    "                    average_loss /= 2000\n",
    "                    \n",
    "            print ('Average loss at step ', step, ': ', average_loss)\n",
    "            average_loss = 0\n",
    "            \n",
    "        #Note that this is expensive (-20% slowdown if computed every 500 steps)\n",
    "        if step % 10000 == 0:\n",
    "            sim = similarity.eval()\n",
    "            \n",
    "            for i in xrange(valid_size):\n",
    "                valid_word = reversed_dictionary[valid_examples[i]]\n",
    "                top_k = 8 # Number of nearest neighbors\n",
    "                \n",
    "                nearest = (-sim[i, :]).argsort()[1:top_k + 1]\n",
    "                log_str = 'Nearest to %s:' % valid_word\n",
    "                \n",
    "                for k in xrange(top_k):\n",
    "                    close_word = reversed_dictionary[nearest[k]]\n",
    "                    log_str = '%s %s,' % (log_str, close_word)\n",
    "                print(log_str)\n",
    "            print(\"\\n\")\n",
    "                    \n",
    "                "
   ]
  },
  {
   "cell_type": "code",
   "execution_count": null,
   "metadata": {},
   "outputs": [],
   "source": []
  }
 ],
 "metadata": {
  "kernelspec": {
   "display_name": "Python 3",
   "language": "python",
   "name": "python3"
  },
  "language_info": {
   "codemirror_mode": {
    "name": "ipython",
    "version": 3
   },
   "file_extension": ".py",
   "mimetype": "text/x-python",
   "name": "python",
   "nbconvert_exporter": "python",
   "pygments_lexer": "ipython3",
   "version": "3.7.3"
  }
 },
 "nbformat": 4,
 "nbformat_minor": 2
}
